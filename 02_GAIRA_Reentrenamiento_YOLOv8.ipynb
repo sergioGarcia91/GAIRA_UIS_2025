{
  "nbformat": 4,
  "nbformat_minor": 0,
  "metadata": {
    "colab": {
      "provenance": [],
      "toc_visible": true,
      "gpuType": "T4",
      "authorship_tag": "ABX9TyOpWLMNzFJNeIJ/zrOZVDjc",
      "include_colab_link": true
    },
    "kernelspec": {
      "name": "python3",
      "display_name": "Python 3"
    },
    "language_info": {
      "name": "python"
    },
    "accelerator": "GPU"
  },
  "cells": [
    {
      "cell_type": "markdown",
      "metadata": {
        "id": "view-in-github",
        "colab_type": "text"
      },
      "source": [
        "<a href=\"https://colab.research.google.com/github/sergioGarcia91/GAIRA_UIS_2025/blob/main/02_GAIRA_Reentrenamiento_YOLOv8.ipynb\" target=\"_parent\"><img src=\"https://colab.research.google.com/assets/colab-badge.svg\" alt=\"Open In Colab\"/></a>"
      ]
    },
    {
      "cell_type": "markdown",
      "source": [
        "# Introducción\n",
        "\n",
        "En este Notebook se describe el flujo de trabajo para:\n",
        "\n",
        "1. **Entrenar** un modelo [YOLOv8](docs.ultralytics.com/models/yolov8/) desde cero.  \n",
        "2. **Reentrenar** un modelo existente con nuevos datos.  \n",
        "3. **Reanudar** un entrenamiento interrumpido (checkpoint restart).  \n",
        "\n",
        "Para profundizar en los conceptos, parámetros y ejemplos de uso de YOLOv8, consulta la documentación oficial de [Ultralytics](https://docs.ultralytics.com/quickstart/).  \n"
      ],
      "metadata": {
        "id": "Jh7-P0-lN6dr"
      }
    },
    {
      "cell_type": "markdown",
      "metadata": {
        "id": "2EqcjDHiho1a"
      },
      "source": [
        "# Inicio"
      ]
    },
    {
      "cell_type": "markdown",
      "source": [
        "## Instalación de la librería\n",
        "\n",
        "Google Colab incluye muchas librerías por defecto, pero `ultralytics` no está preinstalada. Para añadirla al entorno, ejecuta esta celda:\n",
        "\n",
        "```bash\n",
        "!pip install ultralytics\n"
      ],
      "metadata": {
        "id": "WLXVztefOhvT"
      }
    },
    {
      "cell_type": "code",
      "execution_count": null,
      "metadata": {
        "id": "Ab-ZsK2chXs3"
      },
      "outputs": [],
      "source": [
        "# Instalar ultralytics\n",
        "!pip install ultralytics"
      ]
    },
    {
      "cell_type": "markdown",
      "source": [
        "## Conexión con Google Drive"
      ],
      "metadata": {
        "id": "nlVriPaVJoX5"
      }
    },
    {
      "cell_type": "code",
      "source": [
        "# Para acceder a archivos almacenados en tu unidad de Google Drive desde este Notebook\n",
        "from google.colab import drive\n",
        "\n",
        "# Monta tu Google Drive en el directorio /content/drive\n",
        "drive.mount('/content/drive')"
      ],
      "metadata": {
        "id": "zW8x0-ehUnBs"
      },
      "execution_count": null,
      "outputs": []
    },
    {
      "cell_type": "code",
      "execution_count": null,
      "metadata": {
        "id": "3TcBcvdXh4ML"
      },
      "outputs": [],
      "source": [
        "## Carga de librerías\n",
        "import os\n",
        "import shutil\n",
        "import random\n",
        "import ultralytics"
      ]
    },
    {
      "cell_type": "code",
      "execution_count": null,
      "metadata": {
        "id": "Lz5kGF4QjPwh"
      },
      "outputs": [],
      "source": [
        "# Verifica la instalación y disponibilidad de GPU\n",
        "ultralytics.checks()"
      ]
    },
    {
      "cell_type": "markdown",
      "source": [
        "Google Colab ofrece acceso a diversas GPUs, esenciales para acelerar el procesamiento de modelos YOLO. Cada opción presenta características distintas y una tasa de uso aproximada por hora. Esta tasa se mide en unidades de procesamiento: **100 unidades equivalen a 50 000 COP**. Colab incluye **100 unidades gratuitas al mes**; una vez agotadas, es posible adquirir paquetes de recarga. A la fecha de realización de este Notebook, sus especificaciones son:\n",
        "\n",
        "<div align=\"center\">\n",
        "\n",
        "| Nombre GPU | RAM | RAM GPU | Disco     | Tasa aprox. de uso por hora (unidades) |\n",
        "|:----------:|:---------:|:--------:|:---------:|:--------------------------------------:|\n",
        "| **A100**   | 83.5 GB   | 40 GB    | 112.6 GB  | 6.86                                   |\n",
        "| **L4**     | 53 GB     | 22.5 GB  | 112.6 GB  | 2.09                                   |\n",
        "| **T4**     | 12.7 GB   | 15 GB    | 112.6 GB  | 1.43                                   |\n",
        "\n",
        "</div>\n",
        "\n",
        "\n"
      ],
      "metadata": {
        "id": "x09vq4lPPe3p"
      }
    },
    {
      "cell_type": "markdown",
      "source": [
        "# Entrenamiento de un modelo YOLOv8\n",
        "\n",
        "Antes de entrenar, elige entre crear un modelo desde la configuración YAML, cargar uno preentrenado o transferir pesos personalizados:\n",
        "\n",
        "```python\n",
        "import ultralytics\n",
        "\n",
        "# 1. Crear un modelo nuevo a partir del archivo YAML (estructura de la red)\n",
        "model = ultralytics.YOLO('yolov8n-seg.yaml')\n",
        "\n",
        "# 2. Cargar un modelo preentrenado (punto de partida recomendado)\n",
        "model = ultralytics.YOLO('yolov8n-seg.pt')\n",
        "\n",
        "# 3. Crear desde YAML y cargar pesos personalizados\n",
        "pesos_personalizados = \"/content/drive/MyDrive/pesos/pesos_rocas_mod.pt\"\n",
        "model = ultralytics.YOLO('yolov8n-seg.yaml').load(pesos_personalizados)\n"
      ],
      "metadata": {
        "id": "Iea1lXwQPg94"
      }
    },
    {
      "cell_type": "markdown",
      "source": [
        "## Entrenamiento inicial con modelo preentrenado YOLO\n",
        "\n",
        "Si es la primera vez que entrenas un modelo, comienza cargando un modelo preentrenado proporcionado por Ultralytics. Por ejemplo, para segmentación:\n",
        "\n",
        "```python\n",
        "# Carga del modelo de segmentación preentrenado de Ultralytics\n",
        "model = ultralytics.YOLO('yolov8n-seg.pt')\n",
        "```\n",
        "\n",
        "> **Observación:** Ultralytics ofrece varias variantes de modelos YOLOv8 (p. ej., `yolov8n-seg.pt`, `yolov8x-seg.pt`, etc.) que difieren en arquitectura y tamaño de parámetro. Revisa la documentación oficial para elegir la versión más adecuada a tu proyecto."
      ],
      "metadata": {
        "id": "IzAgzgvyP3mI"
      }
    },
    {
      "cell_type": "code",
      "execution_count": null,
      "metadata": {
        "id": "Pnw8059UHZB5"
      },
      "outputs": [],
      "source": [
        "# Carga del modelo de segmentación preentrenado de Ultralytics\n",
        "model = ultralytics.YOLO('yolov8n-seg.pt')"
      ]
    },
    {
      "cell_type": "markdown",
      "source": [
        "Una vez cargado el modelo, define la ruta al archivo `dataset.yaml` (generado tras la conversión con `labelme2yolov8`) e iniciar el entrenamiento mediante `model.train()`. A continuación se muestran los parámetros con sus valores por defecto:\n",
        "\n",
        "```python\n",
        "# Ruta al archivo dataset.yaml con rutas de train/val y clases\n",
        "path_yaml = \"/content/drive/MyDrive/ruta/a/YOLOv8Dataset/dataset.yaml\"\n",
        "\n",
        "# Inicio del entrenamiento con parámetros por defecto\n",
        "results = model.train(\n",
        "    data=path_yaml,\n",
        "    epochs=100,\n",
        "    imgsz=640,\n",
        "    batch=16,\n",
        "    save=True,\n",
        "    save_period=-1,\n",
        "    close_mosaic=10,\n",
        "    lr0=0.01,\n",
        "    lrf=0.01,\n",
        "    optimizer='auto',\n",
        "    project=None,\n",
        "    resume=False,\n",
        "    patience=100,\n",
        "    seed=0,\n",
        ")\n",
        "\n"
      ],
      "metadata": {
        "id": "k-pvOVIfi1lJ"
      }
    },
    {
      "cell_type": "markdown",
      "source": [
        "## Descripción de parámetros\n",
        "\n",
        "- **data**: Ruta al archivo YAML que contiene las rutas de entrenamiento (`train`), validación (`val`) y la lista de clases.  \n",
        "- **epochs**: Número de épocas de entrenamiento.  \n",
        "- **imgsz**: Tamaño (ancho y alto) al que redimensionar las imágenes de entrada.  \n",
        "- **batch**: Tamaño de cada lote de datos.  \n",
        "- **save**: Guarda checkpoints y el modelo final.  \n",
        "- **save_period**: Frecuencia (en épocas) para guardar checkpoints; `-1` desactiva guardado intermedio.  \n",
        "- **close_mosaic**: Número de épocas finales sin aplicar la técnica mosaic.  \n",
        "- **lr0**: Learning rate inicial.  \n",
        "- **lrf**: Fracción del learning rate inicial al final del entrenamiento, learning rate final = lr0*lrf.  \n",
        "- **optimizer**: Optimizador a utilizar (`'auto'` selecciona automáticamente entre SGD, AdamW, etc.).  \n",
        "- **project**: Directorio raíz donde se guardan los resultados; si es `None`, se crea automáticamente en `runs/`.  \n",
        "- **resume**: Si es `True`, reanuda desde el último checkpoint; si es `False`, inicia un entrenamiento nuevo.  \n",
        "- **patience**: Número de épocas sin mejora en la métrica para detener el entrenamiento anticipadamente.  \n",
        "- **seed**: Semilla para la reproducibilidad.\n"
      ],
      "metadata": {
        "id": "48ur22oxp2CY"
      }
    },
    {
      "cell_type": "code",
      "execution_count": null,
      "metadata": {
        "id": "yoNuSskHHlfr"
      },
      "outputs": [],
      "source": [
        "# Ruta al archivo dataset.yaml con rutas de train/val y clases\n",
        "path_yaml = \"/content/drive/MyDrive/ruta/a/YOLOv8Dataset/dataset.yaml\"\n",
        "\n",
        "# Inicio del entrenamiento con parámetros por defecto\n",
        "results = model.train(\n",
        "                      data=path_yaml,\n",
        "                      epochs=100,\n",
        "                      imgsz=640,\n",
        "                      batch=16,\n",
        "                      save=True,\n",
        "                      save_period=-1,\n",
        "                      close_mosaic=10,\n",
        "                      lr0=0.01,\n",
        "                      lrf=0.01,\n",
        "                      optimizer='auto',\n",
        "                      project=None,\n",
        "                      name=None,\n",
        "                      resume=False,\n",
        "                      patience=100,\n",
        "                      seed=0,\n",
        "                  )"
      ]
    },
    {
      "cell_type": "markdown",
      "metadata": {
        "id": "ptQfb3FOHXsJ"
      },
      "source": [
        "# Reentrenamiento del modelo `rocas_kkuuku-n`\n",
        "\n",
        "Una vez que se ha entrenado un modelo con un objetivo específico, por ejemplo, la clasificación de rocas ígneas, sedimentarias o metamórficas, se puede realizar el entrenamiento para mejorar su desempeño con nuevos datos. En este ejemplo:\n",
        "\n",
        "1. Cargamos el modelo y sus pesos preentrenados (`rocas_kkuuku-n`).  \n",
        "2. Ajustamos los parámetros de entrenamiento según los requisitos de nuestro proyecto.  \n",
        "3. Iniciamos el proceso de reentrenamiento con `model.train()`.  \n",
        "\n"
      ]
    },
    {
      "cell_type": "code",
      "execution_count": null,
      "metadata": {
        "id": "Wm7ADraMb2Hc"
      },
      "outputs": [],
      "source": [
        "# Ruta al archivo de pesos del modelo a reentrenar\n",
        "pesos_modelo = 'rocas_kkuuku-n.pt'\n",
        "model = ultralytics.YOLO(pesos_modelo)\n",
        "\n",
        "# Ruta al archivo dataset.yaml generado por labelme2yolov8\n",
        "path_yaml = '/content/drive/MyDrive/ruta/a/YOLOv8Dataset/dataset.yaml'\n",
        "\n",
        "# Configuración y ejecución del reentrenamiento\n",
        "results = model.train(\n",
        "    data=path_yaml,           # Archivo YAML con rutas de train/val y lista de clases\n",
        "    epochs=200,               # Número de épocas (p.ej., 10, 100, 200, 500)\n",
        "    imgsz=[1536, 1280],       # Tamaño de las imágenes (p.ej., 640, 1280, [1536,1280], [3072,2560])\n",
        "    batch=16,                 # Tamaño de lote (p.ej., 32, 16, 8, 2)\n",
        "    save=True,                # Guardar checkpoints y pesos finales\n",
        "    save_period=5,            # Frecuencia de guardado en épocas (p.ej., 1, 5, 10)\n",
        "    close_mosaic=10,          # Épocas finales sin mosaic (0 deshabilita)\n",
        "    lr0=0.005,                # Learning rate inicial (p.ej., 0.01, 0.001, 0.005)\n",
        "    lrf=0.01,                 # Fracción del lr0 para el lr final\n",
        "    optimizer='AdamW',        # Optimizador (p.ej., 'SGD', 'AdamW', 'auto')\n",
        "    project='/content/drive/MyDrive/ruta/a/guardar/Runs',  # Directorio raíz de resultados\n",
        "    resume=False,             # False: nuevo entrenamiento; True: reanudar checkpoint\n",
        "    seed=2,                   # Semilla para reproducibilidad\n",
        "    patience=100,             # Número de épocas sin mejora en la métrica\n",
        ")"
      ]
    },
    {
      "cell_type": "markdown",
      "source": [
        "# Reanudar un entrenamiento interrumpido usando resume\n",
        "\n",
        "En Google Colab, el entrenamiento puede detenerse por límites de sesión, cortes de energía o cierres del navegador. Para continuar desde el último punto guardado, sigue estos pasos:\n",
        "\n",
        "1. **Identifica el checkpoint**: puede ser `last.pt` (última época) o un archivo específico como `epoch15.pt`.  \n",
        "2. **Carga el modelo** con ese checkpoint.  \n",
        "3. **Llama a `model.train()`** con `resume=True` y sin volver a especificar los parámetros de entrenamiento (a menos que desees modificarlos).\n",
        "\n",
        "```python\n",
        "import ultralytics\n",
        "\n",
        "# 1. Ruta al checkpoint que deseas reanudar\n",
        "checkpoint = \"/content/drive/MyDrive/ruta/a/RunsResultados/train/weights/last.pt\"\n",
        "\n",
        "# 2. Carga el modelo con los pesos del checkpoint\n",
        "model = ultralytics.YOLO(checkpoint)\n",
        "\n",
        "# 3. Reanuda el entrenamiento\n",
        "results = model.train(resume=True)\n"
      ],
      "metadata": {
        "id": "fpbc8iR4jdpn"
      }
    },
    {
      "cell_type": "code",
      "execution_count": null,
      "metadata": {
        "id": "nPccGGGfjc5Q"
      },
      "outputs": [],
      "source": [
        "# Ruta al checkpoint para reanudar el entrenamiento\n",
        "checkpoint_path = \"/content/drive/MyDrive/ruta/a/RunsResultados/train/weights/epoch15.pt\"\n",
        "\n",
        "# Carga del modelo con los pesos del dicho checkpoint\n",
        "model = ultralytics.YOLO(checkpoint_path)\n",
        "\n",
        "# Reanuda el entrenamiento desde el checkpoint\n",
        "results = model.train(resume=True)"
      ]
    },
    {
      "cell_type": "markdown",
      "metadata": {
        "id": "i67jYBfhhqmp"
      },
      "source": [
        "# Fin"
      ]
    },
    {
      "cell_type": "code",
      "execution_count": null,
      "metadata": {
        "id": "TEd1JQE6hsBE"
      },
      "outputs": [],
      "source": []
    }
  ]
}