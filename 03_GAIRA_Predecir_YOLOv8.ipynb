{
  "nbformat": 4,
  "nbformat_minor": 0,
  "metadata": {
    "colab": {
      "provenance": [],
      "toc_visible": true,
      "authorship_tag": "ABX9TyO3Rh2WeReRJs83ENspMUNy",
      "include_colab_link": true
    },
    "kernelspec": {
      "name": "python3",
      "display_name": "Python 3"
    },
    "language_info": {
      "name": "python"
    }
  },
  "cells": [
    {
      "cell_type": "markdown",
      "metadata": {
        "id": "view-in-github",
        "colab_type": "text"
      },
      "source": [
        "<a href=\"https://colab.research.google.com/github/sergioGarcia91/GAIRA_UIS_2025/blob/main/03_GAIRA_Predecir_YOLOv8.ipynb\" target=\"_parent\"><img src=\"https://colab.research.google.com/assets/colab-badge.svg\" alt=\"Open In Colab\"/></a>"
      ]
    },
    {
      "cell_type": "markdown",
      "source": [
        "# Introducción\n",
        "\n",
        "En este Notebook se utilizarán diferentes modelos reentrenados de [YOLOv8](https://docs.ultralytics.com/models/yolov8/) para **clasificar imágenes de rocas** según su tipo: **ígneas**, **sedimentarias** o **metamórficas**.\n",
        "El objetivo es evaluar y comparar el desempeño de estos modelos, considerando las diferencias en sus datos de entrenamiento y configuraciones, y así analizar cómo varían sus predicciones en tareas de segmentación geológica.\n",
        "\n",
        "> **Observación:**  \n",
        ">  \n",
        "> Para el proceso de predicción, el uso de recursos computacionales no es tan exigente como en la etapa de entrenamiento de un modelo YOLOv8. Dado que las predicciones se realizarán sobre un directorio que contiene imágenes estáticas de interés, **es posible utilizar la `CPU` sin inconvenientes**.  \n",
        ">  \n",
        "> No obstante, si se emplea un valor alto de `imgsz` (tamaño de imagen), la **CPU estándar podría no ser suficiente**. En ese caso, se recomienda utilizar la **`TPU v2-8`**, la cual ofrece mayor capacidad de **RAM**, permitiendo el procesamiento de imágenes redimensionadas a una resolución más alta.  \n",
        ">  \n",
        "> Por otro lado, si se desea realizar inferencia sobre **video en tiempo real o streaming**, se recomienda el uso de una **`GPU`**. Puede iniciarse con la **`GPU T4`**, que es una de las opciones más ligeras en cuanto a consumo de recursos. Si el rendimiento no es suficiente, se puede escalar a una GPU más potente según sea necesario.\n",
        "\n",
        "\n"
      ],
      "metadata": {
        "id": "tWI-3imw0d71"
      }
    },
    {
      "cell_type": "markdown",
      "metadata": {
        "id": "2EqcjDHiho1a"
      },
      "source": [
        "# Inicio"
      ]
    },
    {
      "cell_type": "code",
      "execution_count": null,
      "metadata": {
        "id": "jiXNqrtb0dCk"
      },
      "outputs": [],
      "source": [
        "# Instalar ultralytics\n",
        "!pip install ultralytics"
      ]
    },
    {
      "cell_type": "markdown",
      "source": [
        "## Conexión con Google Drive"
      ],
      "metadata": {
        "id": "nlVriPaVJoX5"
      }
    },
    {
      "cell_type": "code",
      "source": [
        "# Para acceder a archivos almacenados en tu unidad de Google Drive desde este Notebook\n",
        "from google.colab import drive\n",
        "\n",
        "# Monta tu Google Drive en el directorio /content/drive\n",
        "drive.mount('/content/drive')"
      ],
      "metadata": {
        "id": "zW8x0-ehUnBs"
      },
      "execution_count": null,
      "outputs": []
    },
    {
      "cell_type": "code",
      "execution_count": null,
      "metadata": {
        "id": "CJ73Nl5f0dCl"
      },
      "outputs": [],
      "source": [
        "## Carga de librerías\n",
        "import os\n",
        "import shutil\n",
        "import random\n",
        "import ultralytics"
      ]
    },
    {
      "cell_type": "code",
      "execution_count": null,
      "metadata": {
        "id": "P7Nr63f90dCl"
      },
      "outputs": [],
      "source": [
        "# Verifica la instalación y disponibilidad de GPU\n",
        "ultralytics.checks()"
      ]
    },
    {
      "cell_type": "markdown",
      "source": [
        "## Funciones\n",
        "\n",
        "En la siguiente celda de código se definen una serie de funciones que permiten simplificar y automatizar el proceso de predicción utilizando los modelos YOLOv8 previamente reentrenados. Estas funciones incluyen:\n",
        "\n",
        "- Descarga y extracción de modelos desde Google Drive.\n",
        "- Descarga y extracción del conjunto de imágenes de prueba.\n",
        "- Ejecución de predicciones por lote utilizando múltiples modelos.\n",
        "\n",
        "Este conjunto de utilidades facilita la comparación del desempeño entre diferentes modelos y configuraciones de entrenamiento.\n"
      ],
      "metadata": {
        "id": "Wm0MqNCB-RWN"
      }
    },
    {
      "cell_type": "code",
      "source": [
        "#@title utils\n",
        "import gdown\n",
        "import zipfile\n",
        "import os\n",
        "import shutil\n",
        "\n",
        "# Descarga y extracción de modelos desde Google Drive\n",
        "def get_models_from_drive(\n",
        "    file_id=\"1O0GzwHicc4T2GOrVyZp5gytLpXPr6keN\",\n",
        "    output_zip=\"archivo.zip\",\n",
        "    extract_to=\".\",\n",
        "    modelos_dir=\"Modelos_YOLOv8_Gaira\"\n",
        "    ):\n",
        "    print('Descargando archivo desde Google Drive...')\n",
        "    # https://drive.google.com/file/d/1O0GzwHicc4T2GOrVyZp5gytLpXPr6keN/view?usp=sharing\n",
        "    try:\n",
        "        gdown.download(f\"https://drive.google.com/uc?id={file_id}\", output=output_zip, quiet=False)\n",
        "    except Exception as e:\n",
        "        print(f\"Error al descargar: {e}\")\n",
        "        return None, None\n",
        "\n",
        "    print('Extrayendo archivo ZIP...')\n",
        "    if os.path.exists(output_zip):\n",
        "        try:\n",
        "            with zipfile.ZipFile(output_zip, 'r') as zip_ref:\n",
        "                zip_ref.extractall(extract_to)\n",
        "            print('Archivos extraídos correctamente.')\n",
        "        except zipfile.BadZipFile:\n",
        "            print(\"Error: el archivo ZIP está corrupto.\")\n",
        "            return None, None\n",
        "    else:\n",
        "        print(f\"Archivo ZIP no encontrado: {output_zip}\")\n",
        "        return None, None\n",
        "\n",
        "    print('Eliminando archivo ZIP...')\n",
        "    os.remove(output_zip)\n",
        "\n",
        "    print('Buscando archivos .pt en el directorio de modelos...')\n",
        "    modelos_path = os.path.join(extract_to, modelos_dir)\n",
        "    if not os.path.exists(modelos_path):\n",
        "        print(f\"Directorio no encontrado: {modelos_path}\")\n",
        "        return None, None\n",
        "\n",
        "    lista_modelos = sorted([\n",
        "        archivo for archivo in os.listdir(modelos_path)\n",
        "        if archivo.endswith('.pt')\n",
        "    ])\n",
        "\n",
        "    print(f'Se encontraron {len(lista_modelos)} modelos.')\n",
        "    return modelos_path, lista_modelos\n",
        "\n",
        "#Descarga y extracción del conjunto de imágenes de prueba\n",
        "def get_image_test_from_drive(\n",
        "    file_id=\"1QxVlnk0fV3pxl6cxXYdpPVDZMyrF7eY1\",\n",
        "    output_zip=\"archivo.zip\",\n",
        "    extract_to=\".\",\n",
        "    images_dir=\"Muestras_test\"\n",
        "    ):\n",
        "    print('Descargando conjunto de imágenes de prueba...')\n",
        "    # https://drive.google.com/file/d/1QxVlnk0fV3pxl6cxXYdpPVDZMyrF7eY1/view?usp=sharing\n",
        "    try:\n",
        "        gdown.download(f\"https://drive.google.com/uc?id={file_id}\", output=output_zip, quiet=False)\n",
        "    except Exception as e:\n",
        "        print(f\"Error al descargar el archivo: {e}\")\n",
        "        return None, None\n",
        "\n",
        "    print('Extrayendo archivo ZIP...')\n",
        "    if os.path.exists(output_zip):\n",
        "        try:\n",
        "            with zipfile.ZipFile(output_zip, 'r') as zip_ref:\n",
        "                zip_ref.extractall(extract_to)\n",
        "            print('Archivos extraídos correctamente.')\n",
        "        except zipfile.BadZipFile:\n",
        "            print(\"Error: el archivo ZIP está corrupto.\")\n",
        "            return None, None\n",
        "    else:\n",
        "        print(f\"No se encontró el archivo ZIP: {output_zip}\")\n",
        "        return None, None\n",
        "\n",
        "    print('Eliminando archivo ZIP...')\n",
        "    os.remove(output_zip)\n",
        "\n",
        "    print('Obteniendo rutas de imágenes...')\n",
        "    images_path = os.path.join(extract_to, images_dir)\n",
        "    if not os.path.exists(images_path):\n",
        "        print(f\"El directorio no existe: {images_path}\")\n",
        "        return None, None\n",
        "\n",
        "    lista_images = sorted(os.listdir(images_path))\n",
        "    print(f'Se encontraron {len(lista_images)} imágenes.')\n",
        "\n",
        "    return images_path, lista_images\n",
        "\n",
        "# Ejecución de predicciones por lote utilizando múltiples modelos\n",
        "def predecir_images(path_modelos,\n",
        "                    lista_modelos,\n",
        "                    path_image,\n",
        "                    path_save,\n",
        "                    imgsz_as_dict=False,\n",
        "                    imgsz_dict=dict(),\n",
        "                    imgsz=[1536, 1280],\n",
        "                    conf=0.01,\n",
        "                    verbose=True,\n",
        "                    save=True,\n",
        "                    save_txt=True,\n",
        "                    save_conf=True,\n",
        "                    iou=0.7,\n",
        "                    max_det=300,\n",
        "                    **kwargs):  # Otros argumentos de ultralytics.YOLO.predict\n",
        "    \"\"\"\n",
        "    Realiza predicciones sobre un conjunto de imágenes utilizando varios modelos YOLOv8.\n",
        "\n",
        "    Parámetros:\n",
        "    - path_modelos: ruta donde están almacenados los modelos .pt\n",
        "    - lista_modelos: lista de nombres de archivos .pt\n",
        "    - path_image: ruta del directorio con imágenes a predecir\n",
        "    - path_save: ruta donde se guardarán los resultados\n",
        "    - imgsz_as_dict: si True, usa imgsz_dict por modelo\n",
        "    - imgsz_dict: diccionario {modelo: tamaño_imagen}\n",
        "    - imgsz: tamaño por defecto si imgsz_as_dict es False\n",
        "    - conf: umbral de confianza\n",
        "    - verbose, save, save_txt, save_conf, iou, max_det: parámetros para el predictor YOLOv8\n",
        "    \"\"\"\n",
        "\n",
        "    for modelo in lista_modelos:\n",
        "        ruta_modelo = os.path.join(path_modelos, modelo)\n",
        "\n",
        "        # Determinar tamaño de imagen\n",
        "        tamaño = imgsz_dict.get(modelo, imgsz) if imgsz_as_dict else imgsz\n",
        "\n",
        "        try:\n",
        "            print('## ---------- ##')\n",
        "            print(f\"Cargando modelo: {modelo}\")\n",
        "            model = ultralytics.YOLO(ruta_modelo)\n",
        "\n",
        "            print(\"Ejecutando predicción...\\n\")\n",
        "            results = model.predict(\n",
        "                source=path_image,\n",
        "                imgsz=tamaño,\n",
        "                conf=conf,\n",
        "                project=path_save,\n",
        "                name=modelo.replace('.pt', ''),\n",
        "                verbose=verbose,\n",
        "                save=save,\n",
        "                save_txt=save_txt,\n",
        "                save_conf=save_conf,\n",
        "                iou=iou,\n",
        "                max_det=max_det,\n",
        "                **kwargs\n",
        "            )\n",
        "\n",
        "        except Exception as e:\n",
        "            print(f\"Error con el modelo '{modelo}': {e}\")\n",
        "            print(\"Saltando al siguiente modelo...\\n\")\n",
        "            continue\n"
      ],
      "metadata": {
        "id": "1aajKa9t-s_z",
        "cellView": "form"
      },
      "execution_count": null,
      "outputs": []
    },
    {
      "cell_type": "markdown",
      "source": [
        "# Descargar modelos"
      ],
      "metadata": {
        "id": "ibuUrGP0BCXB"
      }
    },
    {
      "cell_type": "code",
      "source": [
        "ruta_modelos, lista_modelos = get_models_from_drive()"
      ],
      "metadata": {
        "id": "gC1e6x40M8Ej"
      },
      "execution_count": null,
      "outputs": []
    },
    {
      "cell_type": "code",
      "source": [
        "ruta_modelos"
      ],
      "metadata": {
        "id": "oAN7KCfKBIop"
      },
      "execution_count": null,
      "outputs": []
    },
    {
      "cell_type": "markdown",
      "source": [
        "**Nota sobre los modelos utilizados**\n",
        "\n",
        "Algunos de los modelos YOLOv8 utilizados en este Notebook corresponden a la investigación desarrollada por:\n",
        "\n",
        "**García-Arias, S. y Velandia, F. A. (2025).**  \n",
        "*Modelos de redes neuronales convolucionales como herramienta para automatizar la clasificación de rocas.*  \n",
        "**Revista EIA**, 22(43), Art. 4317, pp. 1–28.  \n",
        "https://doi.org/10.24050/reia.v22i43.1813\n"
      ],
      "metadata": {
        "id": "NtHTLPQpDpHO"
      }
    },
    {
      "cell_type": "code",
      "source": [
        "lista_modelos"
      ],
      "metadata": {
        "id": "FatUmlOzBJ1B"
      },
      "execution_count": null,
      "outputs": []
    },
    {
      "cell_type": "markdown",
      "source": [
        "# Imagenes Test"
      ],
      "metadata": {
        "id": "1c2TZB4RBNlI"
      }
    },
    {
      "cell_type": "code",
      "source": [
        "ruta_imagenes, lista_imagenes = get_image_test_from_drive()"
      ],
      "metadata": {
        "id": "LbiXlMNLOCsS"
      },
      "execution_count": null,
      "outputs": []
    },
    {
      "cell_type": "code",
      "source": [
        "ruta_imagenes"
      ],
      "metadata": {
        "id": "QW3wFWVMPBcg"
      },
      "execution_count": null,
      "outputs": []
    },
    {
      "cell_type": "code",
      "source": [
        "lista_imagenes"
      ],
      "metadata": {
        "id": "wU6z9xgWPCeB"
      },
      "execution_count": null,
      "outputs": []
    },
    {
      "cell_type": "markdown",
      "source": [
        "# Predicciones\n",
        "\n",
        "Los modelos YOLOv8 cuentan con varios atributos que pueden ser modificados durante el proceso de predicción.  \n",
        "A continuación, se hará uso únicamente de algunos de ellos, adecuados a nuestro caso particular de segmentación de rocas. Para más información y una descripción completa de los argumentos disponibles, puedes consultar la documentación oficial de Ultralytics sobre [Predict](https://docs.ultralytics.com/modes/predict/#inference-arguments).\n"
      ],
      "metadata": {
        "id": "Rd358i8J3lGt"
      }
    },
    {
      "cell_type": "code",
      "source": [
        "# Ruta donde se guardarán los resultados de las predicciones realizadas por los modelos\n",
        "ruta_guardar_predicciones = '/content/drive/MyDrive/Manuscritos_Investigacion/Rocas/Predicciones_GAIRA'"
      ],
      "metadata": {
        "id": "kueQiLPeBVNY"
      },
      "execution_count": null,
      "outputs": []
    },
    {
      "cell_type": "code",
      "source": [
        "# Diccionario para especificar el tamaño de imagen (imgsz) que se debe usar durante la predicción\n",
        "# según el modelo YOLOv8 utilizado. Valores más altos requieren más memoria (GPU o TPU recomendada)\n",
        "diccionario_size_img = {'rocas_GAIRA_01-n.pt':[1536, 1280],\n",
        "                        'rocas_GAIRA_02-n.pt':[1536, 1280],\n",
        "                        #'rocas_GAIRA_03-n.pt':[3072, 2560], # Recomendable usar TPU v2-8\n",
        "                        'rocas_GAIRA_04-n.pt':[1536, 1280],\n",
        "                        'rocas_GAIRA_05-n.pt':640,\n",
        "                        'rocas_GAIRA_06-n.pt':640}"
      ],
      "metadata": {
        "id": "hK2Xsw2UBbU6"
      },
      "execution_count": null,
      "outputs": []
    },
    {
      "cell_type": "code",
      "source": [
        "predecir_images(path_modelos= ruta_modelos,\n",
        "                lista_modelos= lista_modelos,\n",
        "                path_image= ruta_imagenes,\n",
        "                path_save= ruta_guardar_predicciones,\n",
        "                imgsz_as_dict = True,\n",
        "                imgsz_dict= diccionario_size_img,\n",
        "                imgsz= 640,\n",
        "                conf= 0.010,\n",
        "                verbose= True,\n",
        "                save= True,\n",
        "                save_txt= True,\n",
        "                save_conf= True,\n",
        "                iou= 0.7,\n",
        "                max_det= 300,\n",
        "                )"
      ],
      "metadata": {
        "id": "H8wWvgVrTfKz"
      },
      "execution_count": null,
      "outputs": []
    },
    {
      "cell_type": "markdown",
      "source": [
        "# Fin"
      ],
      "metadata": {
        "id": "wLkGNfhNT5X0"
      }
    },
    {
      "cell_type": "code",
      "source": [],
      "metadata": {
        "id": "wb98GBC-T5Na"
      },
      "execution_count": null,
      "outputs": []
    }
  ]
}